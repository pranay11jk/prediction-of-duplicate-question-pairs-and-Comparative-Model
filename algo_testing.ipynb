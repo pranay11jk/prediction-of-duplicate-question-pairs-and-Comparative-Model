{
  "nbformat": 4,
  "nbformat_minor": 0,
  "metadata": {
    "colab": {
      "provenance": []
    },
    "kernelspec": {
      "name": "python3",
      "display_name": "Python 3"
    },
    "language_info": {
      "name": "python"
    }
  },
  "cells": [
    {
      "cell_type": "markdown",
      "source": [
        "to create category for each domain"
      ],
      "metadata": {
        "id": "PxPDCR4XkIUw"
      }
    },
    {
      "cell_type": "code",
      "source": [
        "import pandas as pd\n",
        "\n",
        "# Load the dataset\n",
        "df = pd.read_csv('updated_dataset.csv')\n",
        "\n",
        "# Define a function to classify the entries\n",
        "def classify_category(entry):\n",
        "    if 'engineering' in entry.lower():\n",
        "        return 'engineering'\n",
        "    elif 'coding' in entry.lower():\n",
        "        return 'coding'\n",
        "    elif 'placements' in entry.lower():\n",
        "        return 'placements'\n",
        "    elif 'college life' in entry.lower():\n",
        "        return 'college life'\n",
        "    elif 'university' in entry.lower():\n",
        "        return 'university'\n",
        "    elif 'cultural fest' in entry.lower():\n",
        "        return 'cultural fest'\n",
        "    elif 'sports fest' in entry.lower():\n",
        "        return 'sports fest'\n",
        "    elif 'dsa' in entry.lower():\n",
        "        return 'dsa'\n",
        "    elif 'sql' in entry.lower():\n",
        "        return 'sql'\n",
        "    else:\n",
        "        return 'other'\n",
        "\n",
        "# Create the new 'Category' column\n",
        "df['Category'] = df['Question'].apply(classify_category)\n",
        "\n",
        "# Save the updated dataset to a new CSV file\n",
        "df.to_csv('updated_datasets.csv', index=False)\n"
      ],
      "metadata": {
        "id": "zX811M8fkHet"
      },
      "execution_count": null,
      "outputs": []
    },
    {
      "cell_type": "markdown",
      "source": [
        "generating labels"
      ],
      "metadata": {
        "id": "hju0NjtnhA2I"
      }
    },
    {
      "cell_type": "code",
      "source": [
        "import pandas as pd\n",
        "from sklearn.model_selection import train_test_split\n",
        "\n",
        "# Load the dataset\n",
        "dataset = pd.read_csv(\"generated_data_final.csv\")  # Replace \"your_dataset.csv\" with your actual file path\n",
        "\n",
        "# Define a function to assign labels based on the length of the question\n",
        "def assign_label(question):\n",
        "    if len(question) <= 20:\n",
        "        return 0\n",
        "    else:\n",
        "        return 1\n",
        "\n",
        "# Apply the function to create labels\n",
        "dataset['Label'] = dataset['Question'].apply(assign_label)\n",
        "\n",
        "# Display the dataset with the newly added 'Label' column\n",
        "print(dataset.head())\n",
        "\n",
        "# Save the updated dataset to a new CSV file\n",
        "dataset.to_csv(\"updated_dataset.csv\", index=False)\n",
        "\n",
        "# Now you have labels in your dataset, you can proceed with applying machine learning algorithms.\n"
      ],
      "metadata": {
        "id": "Qr3yAPWFhAG5"
      },
      "execution_count": null,
      "outputs": []
    },
    {
      "cell_type": "markdown",
      "source": [
        "**Logistic** **Regression**\n",
        "\n",
        "This code will perform the following steps:\n",
        "\n",
        "We concatenate the 'Question' and 'Answer' columns to form the input text for classification.\n",
        "The 'Category' column is used as labels for classification.\n",
        "We perform TF-IDF vectorization for feature extraction.\n",
        "A logistic regression model is trained on the training set.\n",
        "Predictions are made on the test set.\n",
        "Model performance is evaluated using accuracy and a classification report."
      ],
      "metadata": {
        "id": "Fk767auDcsdu"
      }
    },
    {
      "cell_type": "code",
      "execution_count": null,
      "metadata": {
        "id": "7-GfWx1Zcll6",
        "colab": {
          "base_uri": "https://localhost:8080/"
        },
        "outputId": "fcea6271-36bd-4f5b-ce2e-7b7ad67ceb69"
      },
      "outputs": [
        {
          "output_type": "stream",
          "name": "stdout",
          "text": [
            "Accuracy: 0.8100558659217877\n",
            "\n",
            "Classification Report:\n",
            "               precision    recall  f1-score   support\n",
            "\n",
            "       coding       0.88      0.64      0.74        11\n",
            " college life       0.00      0.00      0.00         2\n",
            "cultural fest       0.00      0.00      0.00         2\n",
            "  engineering       0.75      0.98      0.85        87\n",
            "        other       0.67      0.22      0.33         9\n",
            "   placements       0.00      0.00      0.00        11\n",
            "  sports fest       0.00      0.00      0.00         1\n",
            "          sql       1.00      0.50      0.67         6\n",
            "   university       0.92      0.96      0.94        50\n",
            "\n",
            "     accuracy                           0.81       179\n",
            "    macro avg       0.47      0.37      0.39       179\n",
            " weighted avg       0.74      0.81      0.76       179\n",
            "\n"
          ]
        },
        {
          "output_type": "stream",
          "name": "stderr",
          "text": [
            "/usr/local/lib/python3.10/dist-packages/sklearn/metrics/_classification.py:1344: UndefinedMetricWarning: Precision and F-score are ill-defined and being set to 0.0 in labels with no predicted samples. Use `zero_division` parameter to control this behavior.\n",
            "  _warn_prf(average, modifier, msg_start, len(result))\n",
            "/usr/local/lib/python3.10/dist-packages/sklearn/metrics/_classification.py:1344: UndefinedMetricWarning: Precision and F-score are ill-defined and being set to 0.0 in labels with no predicted samples. Use `zero_division` parameter to control this behavior.\n",
            "  _warn_prf(average, modifier, msg_start, len(result))\n",
            "/usr/local/lib/python3.10/dist-packages/sklearn/metrics/_classification.py:1344: UndefinedMetricWarning: Precision and F-score are ill-defined and being set to 0.0 in labels with no predicted samples. Use `zero_division` parameter to control this behavior.\n",
            "  _warn_prf(average, modifier, msg_start, len(result))\n"
          ]
        }
      ],
      "source": [
        "import pandas as pd\n",
        "from sklearn.model_selection import train_test_split\n",
        "from sklearn.feature_extraction.text import TfidfVectorizer\n",
        "from sklearn.linear_model import LogisticRegression\n",
        "from sklearn.metrics import accuracy_score, classification_report\n",
        "\n",
        "# Load the updated dataset\n",
        "dataset = pd.read_csv(\"updated_dataset.csv\")\n",
        "\n",
        "# Split the dataset into features (X) and labels (y)\n",
        "X = dataset['Question'] + ' ' + dataset['Answer']  # Concatenating 'Question' and 'Answer' columns for text classification\n",
        "y = dataset['Category']                            # Labels: 'Category' column\n",
        "\n",
        "# Split the dataset into train and test sets\n",
        "X_train, X_test, y_train, y_test = train_test_split(X, y, test_size=0.2, random_state=42)\n",
        "\n",
        "# Feature extraction using TF-IDF\n",
        "tfidf_vectorizer = TfidfVectorizer(max_features=10000)  # You can adjust max_features as needed\n",
        "X_train_tfidf = tfidf_vectorizer.fit_transform(X_train)\n",
        "X_test_tfidf = tfidf_vectorizer.transform(X_test)\n",
        "\n",
        "# Train a logistic regression model\n",
        "logreg_model = LogisticRegression()\n",
        "logreg_model.fit(X_train_tfidf, y_train)\n",
        "\n",
        "# Make predictions on the test set\n",
        "y_pred = logreg_model.predict(X_test_tfidf)\n",
        "\n",
        "# Evaluate the model\n",
        "accuracy = accuracy_score(y_test, y_pred)\n",
        "print(\"Accuracy:\", accuracy)\n",
        "\n",
        "# Print classification report\n",
        "print(\"\\nClassification Report:\")\n",
        "print(classification_report(y_test, y_pred))\n"
      ]
    },
    {
      "cell_type": "markdown",
      "source": [
        "**Multinomial Naive Bayes algorithm**\n",
        "\n",
        "It loads the dataset, splits it into training and testing sets, performs TF-IDF vectorization for feature extraction, trains a Multinomial Naive Bayes model, makes predictions, and evaluates the model's performance using accuracy and a classification report."
      ],
      "metadata": {
        "id": "YG4Ajd6wijTG"
      }
    },
    {
      "cell_type": "code",
      "source": [
        "import pandas as pd\n",
        "from sklearn.model_selection import train_test_split\n",
        "from sklearn.feature_extraction.text import TfidfVectorizer\n",
        "from sklearn.naive_bayes import MultinomialNB\n",
        "from sklearn.metrics import accuracy_score, classification_report\n",
        "\n",
        "# Load the updated dataset\n",
        "dataset = pd.read_csv(\"updated_dataset.csv\")\n",
        "\n",
        "# Split the dataset into features (X) and labels (y)\n",
        "X = dataset['Question'] + ' ' + dataset['Answer']  # Concatenating 'Question' and 'Answer' columns for text classification\n",
        "y = dataset['Category']                            # Labels: 'Category' column\n",
        "\n",
        "# Split the dataset into train and test sets\n",
        "X_train, X_test, y_train, y_test = train_test_split(X, y, test_size=0.2, random_state=42)\n",
        "\n",
        "# Feature extraction using TF-IDF\n",
        "tfidf_vectorizer = TfidfVectorizer(max_features=10000)  # You can adjust max_features as needed\n",
        "X_train_tfidf = tfidf_vectorizer.fit_transform(X_train)\n",
        "X_test_tfidf = tfidf_vectorizer.transform(X_test)\n",
        "\n",
        "# Train a Multinomial Naive Bayes model\n",
        "nb_model = MultinomialNB()\n",
        "nb_model.fit(X_train_tfidf, y_train)\n",
        "\n",
        "# Make predictions on the test set\n",
        "y_pred = nb_model.predict(X_test_tfidf)\n",
        "\n",
        "# Evaluate the model\n",
        "accuracy = accuracy_score(y_test, y_pred)\n",
        "print(\"Accuracy:\", accuracy)\n",
        "\n",
        "# Print classification report\n",
        "print(\"\\nClassification Report:\")\n",
        "print(classification_report(y_test, y_pred))\n"
      ],
      "metadata": {
        "colab": {
          "base_uri": "https://localhost:8080/"
        },
        "id": "egazMiF-ivX3",
        "outputId": "4fd4ac7a-e1da-4d3d-e114-017f7d9d9915"
      },
      "execution_count": null,
      "outputs": [
        {
          "output_type": "stream",
          "name": "stdout",
          "text": [
            "Accuracy: 0.5586592178770949\n",
            "\n",
            "Classification Report:\n",
            "               precision    recall  f1-score   support\n",
            "\n",
            "       coding       0.00      0.00      0.00        11\n",
            " college life       0.00      0.00      0.00         2\n",
            "cultural fest       0.00      0.00      0.00         2\n",
            "  engineering       0.52      1.00      0.69        87\n",
            "        other       0.00      0.00      0.00         9\n",
            "   placements       0.00      0.00      0.00        11\n",
            "  sports fest       0.00      0.00      0.00         1\n",
            "          sql       0.00      0.00      0.00         6\n",
            "   university       1.00      0.26      0.41        50\n",
            "\n",
            "     accuracy                           0.56       179\n",
            "    macro avg       0.17      0.14      0.12       179\n",
            " weighted avg       0.53      0.56      0.45       179\n",
            "\n"
          ]
        },
        {
          "output_type": "stream",
          "name": "stderr",
          "text": [
            "/usr/local/lib/python3.10/dist-packages/sklearn/metrics/_classification.py:1344: UndefinedMetricWarning: Precision and F-score are ill-defined and being set to 0.0 in labels with no predicted samples. Use `zero_division` parameter to control this behavior.\n",
            "  _warn_prf(average, modifier, msg_start, len(result))\n",
            "/usr/local/lib/python3.10/dist-packages/sklearn/metrics/_classification.py:1344: UndefinedMetricWarning: Precision and F-score are ill-defined and being set to 0.0 in labels with no predicted samples. Use `zero_division` parameter to control this behavior.\n",
            "  _warn_prf(average, modifier, msg_start, len(result))\n",
            "/usr/local/lib/python3.10/dist-packages/sklearn/metrics/_classification.py:1344: UndefinedMetricWarning: Precision and F-score are ill-defined and being set to 0.0 in labels with no predicted samples. Use `zero_division` parameter to control this behavior.\n",
            "  _warn_prf(average, modifier, msg_start, len(result))\n"
          ]
        }
      ]
    },
    {
      "cell_type": "markdown",
      "source": [
        "**K-Nearest Neighbors (KNN) algorithm**\n",
        "\n",
        "It loads the dataset, splits it into training and testing sets, performs TF-IDF vectorization for feature extraction, trains a K-Nearest Neighbors model, makes predictions, and evaluates the model's performance using accuracy and a classification report."
      ],
      "metadata": {
        "id": "HicZtIOpliKv"
      }
    },
    {
      "cell_type": "code",
      "source": [
        "import pandas as pd\n",
        "from sklearn.model_selection import train_test_split\n",
        "from sklearn.feature_extraction.text import TfidfVectorizer\n",
        "from sklearn.neighbors import KNeighborsClassifier\n",
        "from sklearn.metrics import accuracy_score, classification_report\n",
        "\n",
        "# Load the updated dataset\n",
        "dataset = pd.read_csv(\"updated_dataset.csv\")\n",
        "\n",
        "# Split the dataset into features (X) and labels (y)\n",
        "X = dataset['Question'] + ' ' + dataset['Answer']  # Concatenating 'Question' and 'Answer' columns for text classification\n",
        "y = dataset['Category']                            # Labels: 'Category' column\n",
        "\n",
        "# Split the dataset into train and test sets\n",
        "X_train, X_test, y_train, y_test = train_test_split(X, y, test_size=0.2, random_state=42)\n",
        "\n",
        "# Feature extraction using TF-IDF\n",
        "tfidf_vectorizer = TfidfVectorizer(max_features=10000)  # You can adjust max_features as needed\n",
        "X_train_tfidf = tfidf_vectorizer.fit_transform(X_train)\n",
        "X_test_tfidf = tfidf_vectorizer.transform(X_test)\n",
        "\n",
        "# Train a K-Nearest Neighbors model\n",
        "knn_model = KNeighborsClassifier()\n",
        "knn_model.fit(X_train_tfidf, y_train)\n",
        "\n",
        "# Make predictions on the test set\n",
        "y_pred = knn_model.predict(X_test_tfidf)\n",
        "\n",
        "# Evaluate the model\n",
        "accuracy = accuracy_score(y_test, y_pred)\n",
        "print(\"Accuracy:\", accuracy)\n",
        "\n",
        "# Print classification report\n",
        "print(\"\\nClassification Report:\")\n",
        "print(classification_report(y_test, y_pred))\n"
      ],
      "metadata": {
        "colab": {
          "base_uri": "https://localhost:8080/"
        },
        "id": "pFX5XjJTluon",
        "outputId": "2c799894-58e6-4742-b496-c74dbc794676"
      },
      "execution_count": null,
      "outputs": [
        {
          "output_type": "stream",
          "name": "stdout",
          "text": [
            "Accuracy: 0.8268156424581006\n",
            "\n",
            "Classification Report:\n",
            "               precision    recall  f1-score   support\n",
            "\n",
            "       coding       0.71      0.91      0.80        11\n",
            " college life       0.00      0.00      0.00         2\n",
            "cultural fest       1.00      1.00      1.00         2\n",
            "  engineering       0.81      0.93      0.87        87\n",
            "        other       0.80      0.89      0.84         9\n",
            "   placements       0.86      0.55      0.67        11\n",
            "  sports fest       1.00      1.00      1.00         1\n",
            "          sql       1.00      0.67      0.80         6\n",
            "   university       0.88      0.72      0.79        50\n",
            "\n",
            "     accuracy                           0.83       179\n",
            "    macro avg       0.78      0.74      0.75       179\n",
            " weighted avg       0.83      0.83      0.82       179\n",
            "\n"
          ]
        },
        {
          "output_type": "stream",
          "name": "stderr",
          "text": [
            "/usr/local/lib/python3.10/dist-packages/sklearn/metrics/_classification.py:1344: UndefinedMetricWarning: Precision and F-score are ill-defined and being set to 0.0 in labels with no predicted samples. Use `zero_division` parameter to control this behavior.\n",
            "  _warn_prf(average, modifier, msg_start, len(result))\n",
            "/usr/local/lib/python3.10/dist-packages/sklearn/metrics/_classification.py:1344: UndefinedMetricWarning: Precision and F-score are ill-defined and being set to 0.0 in labels with no predicted samples. Use `zero_division` parameter to control this behavior.\n",
            "  _warn_prf(average, modifier, msg_start, len(result))\n",
            "/usr/local/lib/python3.10/dist-packages/sklearn/metrics/_classification.py:1344: UndefinedMetricWarning: Precision and F-score are ill-defined and being set to 0.0 in labels with no predicted samples. Use `zero_division` parameter to control this behavior.\n",
            "  _warn_prf(average, modifier, msg_start, len(result))\n"
          ]
        }
      ]
    },
    {
      "cell_type": "markdown",
      "source": [
        " **Decision Tree Algorithm**\n",
        " It loads the dataset, splits it into training and testing sets, performs TF-IDF vectorization for feature extraction, trains a Decision Tree model, makes predictions, and evaluates the model's performance using accuracy and a classification report."
      ],
      "metadata": {
        "id": "6vG585GRl0dL"
      }
    },
    {
      "cell_type": "code",
      "source": [
        "import pandas as pd\n",
        "from sklearn.model_selection import train_test_split\n",
        "from sklearn.feature_extraction.text import TfidfVectorizer\n",
        "from sklearn.tree import DecisionTreeClassifier\n",
        "from sklearn.metrics import accuracy_score, classification_report\n",
        "\n",
        "# Load the updated dataset\n",
        "dataset = pd.read_csv(\"updated_dataset.csv\")\n",
        "\n",
        "# Split the dataset into features (X) and labels (y)\n",
        "X = dataset['Question'] + ' ' + dataset['Answer']  # Concatenating 'Question' and 'Answer' columns for text classification\n",
        "y = dataset['Category']                            # Labels: 'Category' column\n",
        "\n",
        "# Split the dataset into train and test sets\n",
        "X_train, X_test, y_train, y_test = train_test_split(X, y, test_size=0.2, random_state=42)\n",
        "\n",
        "# Feature extraction using TF-IDF\n",
        "tfidf_vectorizer = TfidfVectorizer(max_features=10000)  # You can adjust max_features as needed\n",
        "X_train_tfidf = tfidf_vectorizer.fit_transform(X_train)\n",
        "X_test_tfidf = tfidf_vectorizer.transform(X_test)\n",
        "\n",
        "# Train a Decision Tree model\n",
        "dt_model = DecisionTreeClassifier()\n",
        "dt_model.fit(X_train_tfidf, y_train)\n",
        "\n",
        "# Make predictions on the test set\n",
        "y_pred = dt_model.predict(X_test_tfidf)\n",
        "\n",
        "# Evaluate the model\n",
        "accuracy = accuracy_score(y_test, y_pred)\n",
        "print(\"Accuracy:\", accuracy)\n",
        "\n",
        "# Print classification report\n",
        "print(\"\\nClassification Report:\")\n",
        "print(classification_report(y_test, y_pred))\n"
      ],
      "metadata": {
        "colab": {
          "base_uri": "https://localhost:8080/"
        },
        "id": "SFWgg0qlmELq",
        "outputId": "5f7b5c29-8930-444b-b643-02b524eddd7a"
      },
      "execution_count": null,
      "outputs": [
        {
          "output_type": "stream",
          "name": "stdout",
          "text": [
            "Accuracy: 0.9385474860335196\n",
            "\n",
            "Classification Report:\n",
            "               precision    recall  f1-score   support\n",
            "\n",
            "       coding       0.71      0.91      0.80        11\n",
            " college life       0.00      0.00      0.00         2\n",
            "cultural fest       1.00      1.00      1.00         2\n",
            "  engineering       0.98      0.98      0.98        87\n",
            "        other       0.78      0.78      0.78         9\n",
            "   placements       0.92      1.00      0.96        11\n",
            "  sports fest       1.00      1.00      1.00         1\n",
            "          sql       1.00      1.00      1.00         6\n",
            "   university       0.96      0.92      0.94        50\n",
            "\n",
            "     accuracy                           0.94       179\n",
            "    macro avg       0.82      0.84      0.83       179\n",
            " weighted avg       0.93      0.94      0.93       179\n",
            "\n"
          ]
        },
        {
          "output_type": "stream",
          "name": "stderr",
          "text": [
            "/usr/local/lib/python3.10/dist-packages/sklearn/metrics/_classification.py:1344: UndefinedMetricWarning: Precision and F-score are ill-defined and being set to 0.0 in labels with no predicted samples. Use `zero_division` parameter to control this behavior.\n",
            "  _warn_prf(average, modifier, msg_start, len(result))\n",
            "/usr/local/lib/python3.10/dist-packages/sklearn/metrics/_classification.py:1344: UndefinedMetricWarning: Precision and F-score are ill-defined and being set to 0.0 in labels with no predicted samples. Use `zero_division` parameter to control this behavior.\n",
            "  _warn_prf(average, modifier, msg_start, len(result))\n",
            "/usr/local/lib/python3.10/dist-packages/sklearn/metrics/_classification.py:1344: UndefinedMetricWarning: Precision and F-score are ill-defined and being set to 0.0 in labels with no predicted samples. Use `zero_division` parameter to control this behavior.\n",
            "  _warn_prf(average, modifier, msg_start, len(result))\n"
          ]
        }
      ]
    },
    {
      "cell_type": "markdown",
      "source": [
        "**Support Vector Machines (SVM) algorithm**\n",
        "It loads the dataset, splits it into training and testing sets, performs TF-IDF vectorization for feature extraction, trains a Support Vector Machines model, makes predictions, and evaluates the model's performance using accuracy and a classification report."
      ],
      "metadata": {
        "id": "odAv07U-mPYJ"
      }
    },
    {
      "cell_type": "code",
      "source": [
        "import pandas as pd\n",
        "from sklearn.model_selection import train_test_split\n",
        "from sklearn.feature_extraction.text import TfidfVectorizer\n",
        "from sklearn.svm import SVC\n",
        "from sklearn.metrics import accuracy_score, classification_report\n",
        "\n",
        "# Load the updated dataset\n",
        "dataset = pd.read_csv(\"updated_dataset.csv\")\n",
        "\n",
        "# Split the dataset into features (X) and labels (y)\n",
        "X = dataset['Question'] + ' ' + dataset['Answer']  # Concatenating 'Question' and 'Answer' columns for text classification\n",
        "y = dataset['Category']                            # Labels: 'Category' column\n",
        "\n",
        "# Split the dataset into train and test sets\n",
        "X_train, X_test, y_train, y_test = train_test_split(X, y, test_size=0.2, random_state=42)\n",
        "\n",
        "# Feature extraction using TF-IDF\n",
        "tfidf_vectorizer = TfidfVectorizer(max_features=10000)  # You can adjust max_features as needed\n",
        "X_train_tfidf = tfidf_vectorizer.fit_transform(X_train)\n",
        "X_test_tfidf = tfidf_vectorizer.transform(X_test)\n",
        "\n",
        "# Train a Support Vector Machines model\n",
        "svm_model = SVC()\n",
        "svm_model.fit(X_train_tfidf, y_train)\n",
        "\n",
        "# Make predictions on the test set\n",
        "y_pred = svm_model.predict(X_test_tfidf)\n",
        "\n",
        "# Evaluate the model\n",
        "accuracy = accuracy_score(y_test, y_pred)\n",
        "print(\"Accuracy:\", accuracy)\n",
        "\n",
        "# Print classification report\n",
        "print(\"\\nClassification Report:\")\n",
        "print(classification_report(y_test, y_pred))\n"
      ],
      "metadata": {
        "colab": {
          "base_uri": "https://localhost:8080/"
        },
        "id": "Ki37rxCNmYq7",
        "outputId": "74031ad2-4d03-49c1-8624-4609f14f8318"
      },
      "execution_count": null,
      "outputs": [
        {
          "output_type": "stream",
          "name": "stdout",
          "text": [
            "Accuracy: 0.8491620111731844\n",
            "\n",
            "Classification Report:\n",
            "               precision    recall  f1-score   support\n",
            "\n",
            "       coding       0.90      0.82      0.86        11\n",
            " college life       0.00      0.00      0.00         2\n",
            "cultural fest       0.00      0.00      0.00         2\n",
            "  engineering       0.78      0.99      0.87        87\n",
            "        other       0.67      0.22      0.33         9\n",
            "   placements       1.00      0.18      0.31        11\n",
            "  sports fest       0.00      0.00      0.00         1\n",
            "          sql       1.00      0.83      0.91         6\n",
            "   university       0.98      0.96      0.97        50\n",
            "\n",
            "     accuracy                           0.85       179\n",
            "    macro avg       0.59      0.44      0.47       179\n",
            " weighted avg       0.84      0.85      0.81       179\n",
            "\n"
          ]
        },
        {
          "output_type": "stream",
          "name": "stderr",
          "text": [
            "/usr/local/lib/python3.10/dist-packages/sklearn/metrics/_classification.py:1344: UndefinedMetricWarning: Precision and F-score are ill-defined and being set to 0.0 in labels with no predicted samples. Use `zero_division` parameter to control this behavior.\n",
            "  _warn_prf(average, modifier, msg_start, len(result))\n",
            "/usr/local/lib/python3.10/dist-packages/sklearn/metrics/_classification.py:1344: UndefinedMetricWarning: Precision and F-score are ill-defined and being set to 0.0 in labels with no predicted samples. Use `zero_division` parameter to control this behavior.\n",
            "  _warn_prf(average, modifier, msg_start, len(result))\n",
            "/usr/local/lib/python3.10/dist-packages/sklearn/metrics/_classification.py:1344: UndefinedMetricWarning: Precision and F-score are ill-defined and being set to 0.0 in labels with no predicted samples. Use `zero_division` parameter to control this behavior.\n",
            "  _warn_prf(average, modifier, msg_start, len(result))\n"
          ]
        }
      ]
    }
  ]
}